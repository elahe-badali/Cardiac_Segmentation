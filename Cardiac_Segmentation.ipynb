{
  "nbformat": 4,
  "nbformat_minor": 0,
  "metadata": {
    "accelerator": "GPU",
    "colab": {
      "name": "Final_Project.ipynb",
      "provenance": [],
      "collapsed_sections": []
    },
    "kernelspec": {
      "display_name": "Python 3",
      "name": "python3"
    },
    "widgets": {
      "application/vnd.jupyter.widget-state+json": {
        "946867b636e3489ebbea5941c78314e3": {
          "model_module": "@jupyter-widgets/controls",
          "model_name": "HBoxModel",
          "state": {
            "_view_name": "HBoxView",
            "_dom_classes": [],
            "_model_name": "HBoxModel",
            "_view_module": "@jupyter-widgets/controls",
            "_model_module_version": "1.5.0",
            "_view_count": null,
            "_view_module_version": "1.5.0",
            "box_style": "",
            "layout": "IPY_MODEL_e853921a03294b21b286cd0a1587bb39",
            "_model_module": "@jupyter-widgets/controls",
            "children": [
              "IPY_MODEL_cdcca2ce17fe48d88a33182f67c80d0d",
              "IPY_MODEL_b8ea171ccb554b68ab41f542c80c746c"
            ]
          }
        },
        "e853921a03294b21b286cd0a1587bb39": {
          "model_module": "@jupyter-widgets/base",
          "model_name": "LayoutModel",
          "state": {
            "_view_name": "LayoutView",
            "grid_template_rows": null,
            "right": null,
            "justify_content": null,
            "_view_module": "@jupyter-widgets/base",
            "overflow": null,
            "_model_module_version": "1.2.0",
            "_view_count": null,
            "flex_flow": null,
            "width": null,
            "min_width": null,
            "border": null,
            "align_items": null,
            "bottom": null,
            "_model_module": "@jupyter-widgets/base",
            "top": null,
            "grid_column": null,
            "overflow_y": null,
            "overflow_x": null,
            "grid_auto_flow": null,
            "grid_area": null,
            "grid_template_columns": null,
            "flex": null,
            "_model_name": "LayoutModel",
            "justify_items": null,
            "grid_row": null,
            "max_height": null,
            "align_content": null,
            "visibility": null,
            "align_self": null,
            "height": null,
            "min_height": null,
            "padding": null,
            "grid_auto_rows": null,
            "grid_gap": null,
            "max_width": null,
            "order": null,
            "_view_module_version": "1.2.0",
            "grid_template_areas": null,
            "object_position": null,
            "object_fit": null,
            "grid_auto_columns": null,
            "margin": null,
            "display": null,
            "left": null
          }
        },
        "cdcca2ce17fe48d88a33182f67c80d0d": {
          "model_module": "@jupyter-widgets/controls",
          "model_name": "FloatProgressModel",
          "state": {
            "_view_name": "ProgressView",
            "style": "IPY_MODEL_eec2d656969e46a7a4df15d0f4b25267",
            "_dom_classes": [],
            "description": "Reading: ",
            "_model_name": "FloatProgressModel",
            "bar_style": "success",
            "max": 1,
            "_view_module": "@jupyter-widgets/controls",
            "_model_module_version": "1.5.0",
            "value": 1,
            "_view_count": null,
            "_view_module_version": "1.5.0",
            "orientation": "horizontal",
            "min": 0,
            "description_tooltip": null,
            "_model_module": "@jupyter-widgets/controls",
            "layout": "IPY_MODEL_0175f0119c9d4c90a64fed8e23c73d6c"
          }
        },
        "b8ea171ccb554b68ab41f542c80c746c": {
          "model_module": "@jupyter-widgets/controls",
          "model_name": "HTMLModel",
          "state": {
            "_view_name": "HTMLView",
            "style": "IPY_MODEL_1aa87ab347d541cea03fb9b3d3201c04",
            "_dom_classes": [],
            "description": "",
            "_model_name": "HTMLModel",
            "placeholder": "​",
            "_view_module": "@jupyter-widgets/controls",
            "_model_module_version": "1.5.0",
            "value": " 516/? [02:19&lt;00:00,  3.71it/s]",
            "_view_count": null,
            "_view_module_version": "1.5.0",
            "description_tooltip": null,
            "_model_module": "@jupyter-widgets/controls",
            "layout": "IPY_MODEL_ec159ab17fd145abab66866fcc770ea7"
          }
        },
        "eec2d656969e46a7a4df15d0f4b25267": {
          "model_module": "@jupyter-widgets/controls",
          "model_name": "ProgressStyleModel",
          "state": {
            "_view_name": "StyleView",
            "_model_name": "ProgressStyleModel",
            "description_width": "initial",
            "_view_module": "@jupyter-widgets/base",
            "_model_module_version": "1.5.0",
            "_view_count": null,
            "_view_module_version": "1.2.0",
            "bar_color": null,
            "_model_module": "@jupyter-widgets/controls"
          }
        },
        "0175f0119c9d4c90a64fed8e23c73d6c": {
          "model_module": "@jupyter-widgets/base",
          "model_name": "LayoutModel",
          "state": {
            "_view_name": "LayoutView",
            "grid_template_rows": null,
            "right": null,
            "justify_content": null,
            "_view_module": "@jupyter-widgets/base",
            "overflow": null,
            "_model_module_version": "1.2.0",
            "_view_count": null,
            "flex_flow": null,
            "width": null,
            "min_width": null,
            "border": null,
            "align_items": null,
            "bottom": null,
            "_model_module": "@jupyter-widgets/base",
            "top": null,
            "grid_column": null,
            "overflow_y": null,
            "overflow_x": null,
            "grid_auto_flow": null,
            "grid_area": null,
            "grid_template_columns": null,
            "flex": null,
            "_model_name": "LayoutModel",
            "justify_items": null,
            "grid_row": null,
            "max_height": null,
            "align_content": null,
            "visibility": null,
            "align_self": null,
            "height": null,
            "min_height": null,
            "padding": null,
            "grid_auto_rows": null,
            "grid_gap": null,
            "max_width": null,
            "order": null,
            "_view_module_version": "1.2.0",
            "grid_template_areas": null,
            "object_position": null,
            "object_fit": null,
            "grid_auto_columns": null,
            "margin": null,
            "display": null,
            "left": null
          }
        },
        "1aa87ab347d541cea03fb9b3d3201c04": {
          "model_module": "@jupyter-widgets/controls",
          "model_name": "DescriptionStyleModel",
          "state": {
            "_view_name": "StyleView",
            "_model_name": "DescriptionStyleModel",
            "description_width": "",
            "_view_module": "@jupyter-widgets/base",
            "_model_module_version": "1.5.0",
            "_view_count": null,
            "_view_module_version": "1.2.0",
            "_model_module": "@jupyter-widgets/controls"
          }
        },
        "ec159ab17fd145abab66866fcc770ea7": {
          "model_module": "@jupyter-widgets/base",
          "model_name": "LayoutModel",
          "state": {
            "_view_name": "LayoutView",
            "grid_template_rows": null,
            "right": null,
            "justify_content": null,
            "_view_module": "@jupyter-widgets/base",
            "overflow": null,
            "_model_module_version": "1.2.0",
            "_view_count": null,
            "flex_flow": null,
            "width": null,
            "min_width": null,
            "border": null,
            "align_items": null,
            "bottom": null,
            "_model_module": "@jupyter-widgets/base",
            "top": null,
            "grid_column": null,
            "overflow_y": null,
            "overflow_x": null,
            "grid_auto_flow": null,
            "grid_area": null,
            "grid_template_columns": null,
            "flex": null,
            "_model_name": "LayoutModel",
            "justify_items": null,
            "grid_row": null,
            "max_height": null,
            "align_content": null,
            "visibility": null,
            "align_self": null,
            "height": null,
            "min_height": null,
            "padding": null,
            "grid_auto_rows": null,
            "grid_gap": null,
            "max_width": null,
            "order": null,
            "_view_module_version": "1.2.0",
            "grid_template_areas": null,
            "object_position": null,
            "object_fit": null,
            "grid_auto_columns": null,
            "margin": null,
            "display": null,
            "left": null
          }
        },
        "3a69291321b9423990805e10f93a2b56": {
          "model_module": "@jupyter-widgets/controls",
          "model_name": "HBoxModel",
          "state": {
            "_view_name": "HBoxView",
            "_dom_classes": [],
            "_model_name": "HBoxModel",
            "_view_module": "@jupyter-widgets/controls",
            "_model_module_version": "1.5.0",
            "_view_count": null,
            "_view_module_version": "1.5.0",
            "box_style": "",
            "layout": "IPY_MODEL_780adb78ac1f4279b76ce26944ca81da",
            "_model_module": "@jupyter-widgets/controls",
            "children": [
              "IPY_MODEL_518dac8933484095b3cbcbc9cc7da654",
              "IPY_MODEL_55c18197709d4ee6bf510119f25e8652"
            ]
          }
        },
        "780adb78ac1f4279b76ce26944ca81da": {
          "model_module": "@jupyter-widgets/base",
          "model_name": "LayoutModel",
          "state": {
            "_view_name": "LayoutView",
            "grid_template_rows": null,
            "right": null,
            "justify_content": null,
            "_view_module": "@jupyter-widgets/base",
            "overflow": null,
            "_model_module_version": "1.2.0",
            "_view_count": null,
            "flex_flow": null,
            "width": null,
            "min_width": null,
            "border": null,
            "align_items": null,
            "bottom": null,
            "_model_module": "@jupyter-widgets/base",
            "top": null,
            "grid_column": null,
            "overflow_y": null,
            "overflow_x": null,
            "grid_auto_flow": null,
            "grid_area": null,
            "grid_template_columns": null,
            "flex": null,
            "_model_name": "LayoutModel",
            "justify_items": null,
            "grid_row": null,
            "max_height": null,
            "align_content": null,
            "visibility": null,
            "align_self": null,
            "height": null,
            "min_height": null,
            "padding": null,
            "grid_auto_rows": null,
            "grid_gap": null,
            "max_width": null,
            "order": null,
            "_view_module_version": "1.2.0",
            "grid_template_areas": null,
            "object_position": null,
            "object_fit": null,
            "grid_auto_columns": null,
            "margin": null,
            "display": null,
            "left": null
          }
        },
        "518dac8933484095b3cbcbc9cc7da654": {
          "model_module": "@jupyter-widgets/controls",
          "model_name": "FloatProgressModel",
          "state": {
            "_view_name": "ProgressView",
            "style": "IPY_MODEL_011f4b21cb07434e9ebda0df0f9725f3",
            "_dom_classes": [],
            "description": "Reading: ",
            "_model_name": "FloatProgressModel",
            "bar_style": "success",
            "max": 1,
            "_view_module": "@jupyter-widgets/controls",
            "_model_module_version": "1.5.0",
            "value": 1,
            "_view_count": null,
            "_view_module_version": "1.5.0",
            "orientation": "horizontal",
            "min": 0,
            "description_tooltip": null,
            "_model_module": "@jupyter-widgets/controls",
            "layout": "IPY_MODEL_c460fe55e5e640eb847c15b60884bb69"
          }
        },
        "55c18197709d4ee6bf510119f25e8652": {
          "model_module": "@jupyter-widgets/controls",
          "model_name": "HTMLModel",
          "state": {
            "_view_name": "HTMLView",
            "style": "IPY_MODEL_3a49fa1c1edb4cc0999f45fe3592a929",
            "_dom_classes": [],
            "description": "",
            "_model_name": "HTMLModel",
            "placeholder": "​",
            "_view_module": "@jupyter-widgets/controls",
            "_model_module_version": "1.5.0",
            "value": " 526/? [04:56&lt;00:00,  1.77it/s]",
            "_view_count": null,
            "_view_module_version": "1.5.0",
            "description_tooltip": null,
            "_model_module": "@jupyter-widgets/controls",
            "layout": "IPY_MODEL_3c20b59eebac44cd9a4dc8d1e2a81c78"
          }
        },
        "011f4b21cb07434e9ebda0df0f9725f3": {
          "model_module": "@jupyter-widgets/controls",
          "model_name": "ProgressStyleModel",
          "state": {
            "_view_name": "StyleView",
            "_model_name": "ProgressStyleModel",
            "description_width": "initial",
            "_view_module": "@jupyter-widgets/base",
            "_model_module_version": "1.5.0",
            "_view_count": null,
            "_view_module_version": "1.2.0",
            "bar_color": null,
            "_model_module": "@jupyter-widgets/controls"
          }
        },
        "c460fe55e5e640eb847c15b60884bb69": {
          "model_module": "@jupyter-widgets/base",
          "model_name": "LayoutModel",
          "state": {
            "_view_name": "LayoutView",
            "grid_template_rows": null,
            "right": null,
            "justify_content": null,
            "_view_module": "@jupyter-widgets/base",
            "overflow": null,
            "_model_module_version": "1.2.0",
            "_view_count": null,
            "flex_flow": null,
            "width": null,
            "min_width": null,
            "border": null,
            "align_items": null,
            "bottom": null,
            "_model_module": "@jupyter-widgets/base",
            "top": null,
            "grid_column": null,
            "overflow_y": null,
            "overflow_x": null,
            "grid_auto_flow": null,
            "grid_area": null,
            "grid_template_columns": null,
            "flex": null,
            "_model_name": "LayoutModel",
            "justify_items": null,
            "grid_row": null,
            "max_height": null,
            "align_content": null,
            "visibility": null,
            "align_self": null,
            "height": null,
            "min_height": null,
            "padding": null,
            "grid_auto_rows": null,
            "grid_gap": null,
            "max_width": null,
            "order": null,
            "_view_module_version": "1.2.0",
            "grid_template_areas": null,
            "object_position": null,
            "object_fit": null,
            "grid_auto_columns": null,
            "margin": null,
            "display": null,
            "left": null
          }
        },
        "3a49fa1c1edb4cc0999f45fe3592a929": {
          "model_module": "@jupyter-widgets/controls",
          "model_name": "DescriptionStyleModel",
          "state": {
            "_view_name": "StyleView",
            "_model_name": "DescriptionStyleModel",
            "description_width": "",
            "_view_module": "@jupyter-widgets/base",
            "_model_module_version": "1.5.0",
            "_view_count": null,
            "_view_module_version": "1.2.0",
            "_model_module": "@jupyter-widgets/controls"
          }
        },
        "3c20b59eebac44cd9a4dc8d1e2a81c78": {
          "model_module": "@jupyter-widgets/base",
          "model_name": "LayoutModel",
          "state": {
            "_view_name": "LayoutView",
            "grid_template_rows": null,
            "right": null,
            "justify_content": null,
            "_view_module": "@jupyter-widgets/base",
            "overflow": null,
            "_model_module_version": "1.2.0",
            "_view_count": null,
            "flex_flow": null,
            "width": null,
            "min_width": null,
            "border": null,
            "align_items": null,
            "bottom": null,
            "_model_module": "@jupyter-widgets/base",
            "top": null,
            "grid_column": null,
            "overflow_y": null,
            "overflow_x": null,
            "grid_auto_flow": null,
            "grid_area": null,
            "grid_template_columns": null,
            "flex": null,
            "_model_name": "LayoutModel",
            "justify_items": null,
            "grid_row": null,
            "max_height": null,
            "align_content": null,
            "visibility": null,
            "align_self": null,
            "height": null,
            "min_height": null,
            "padding": null,
            "grid_auto_rows": null,
            "grid_gap": null,
            "max_width": null,
            "order": null,
            "_view_module_version": "1.2.0",
            "grid_template_areas": null,
            "object_position": null,
            "object_fit": null,
            "grid_auto_columns": null,
            "margin": null,
            "display": null,
            "left": null
          }
        },
        "4e7e1a70ca0f49be8ab5e13a967390bc": {
          "model_module": "@jupyter-widgets/controls",
          "model_name": "HBoxModel",
          "state": {
            "_view_name": "HBoxView",
            "_dom_classes": [],
            "_model_name": "HBoxModel",
            "_view_module": "@jupyter-widgets/controls",
            "_model_module_version": "1.5.0",
            "_view_count": null,
            "_view_module_version": "1.5.0",
            "box_style": "",
            "layout": "IPY_MODEL_bd3afe6b666744658805a56e988840b5",
            "_model_module": "@jupyter-widgets/controls",
            "children": [
              "IPY_MODEL_216f76ddcdd34a8aa09e2a8f0f5dc93f",
              "IPY_MODEL_651fa59c986d4a6091eb1b3baa75d87d"
            ]
          }
        },
        "bd3afe6b666744658805a56e988840b5": {
          "model_module": "@jupyter-widgets/base",
          "model_name": "LayoutModel",
          "state": {
            "_view_name": "LayoutView",
            "grid_template_rows": null,
            "right": null,
            "justify_content": null,
            "_view_module": "@jupyter-widgets/base",
            "overflow": null,
            "_model_module_version": "1.2.0",
            "_view_count": null,
            "flex_flow": null,
            "width": null,
            "min_width": null,
            "border": null,
            "align_items": null,
            "bottom": null,
            "_model_module": "@jupyter-widgets/base",
            "top": null,
            "grid_column": null,
            "overflow_y": null,
            "overflow_x": null,
            "grid_auto_flow": null,
            "grid_area": null,
            "grid_template_columns": null,
            "flex": null,
            "_model_name": "LayoutModel",
            "justify_items": null,
            "grid_row": null,
            "max_height": null,
            "align_content": null,
            "visibility": null,
            "align_self": null,
            "height": null,
            "min_height": null,
            "padding": null,
            "grid_auto_rows": null,
            "grid_gap": null,
            "max_width": null,
            "order": null,
            "_view_module_version": "1.2.0",
            "grid_template_areas": null,
            "object_position": null,
            "object_fit": null,
            "grid_auto_columns": null,
            "margin": null,
            "display": null,
            "left": null
          }
        },
        "216f76ddcdd34a8aa09e2a8f0f5dc93f": {
          "model_module": "@jupyter-widgets/controls",
          "model_name": "FloatProgressModel",
          "state": {
            "_view_name": "ProgressView",
            "style": "IPY_MODEL_6303a2b85cec4b10bf0a2a5889a816e3",
            "_dom_classes": [],
            "description": "Reading: ",
            "_model_name": "FloatProgressModel",
            "bar_style": "success",
            "max": 1,
            "_view_module": "@jupyter-widgets/controls",
            "_model_module_version": "1.5.0",
            "value": 1,
            "_view_count": null,
            "_view_module_version": "1.5.0",
            "orientation": "horizontal",
            "min": 0,
            "description_tooltip": null,
            "_model_module": "@jupyter-widgets/controls",
            "layout": "IPY_MODEL_c5544250cb884d80af3fd4ea451b51ac"
          }
        },
        "651fa59c986d4a6091eb1b3baa75d87d": {
          "model_module": "@jupyter-widgets/controls",
          "model_name": "HTMLModel",
          "state": {
            "_view_name": "HTMLView",
            "style": "IPY_MODEL_0ad232e0d2ac42a18fc03a763fb55936",
            "_dom_classes": [],
            "description": "",
            "_model_name": "HTMLModel",
            "placeholder": "​",
            "_view_module": "@jupyter-widgets/controls",
            "_model_module_version": "1.5.0",
            "value": " 279/? [01:15&lt;00:00,  3.71it/s]",
            "_view_count": null,
            "_view_module_version": "1.5.0",
            "description_tooltip": null,
            "_model_module": "@jupyter-widgets/controls",
            "layout": "IPY_MODEL_b687b22ffb3b46ffb3fd927225fd3943"
          }
        },
        "6303a2b85cec4b10bf0a2a5889a816e3": {
          "model_module": "@jupyter-widgets/controls",
          "model_name": "ProgressStyleModel",
          "state": {
            "_view_name": "StyleView",
            "_model_name": "ProgressStyleModel",
            "description_width": "initial",
            "_view_module": "@jupyter-widgets/base",
            "_model_module_version": "1.5.0",
            "_view_count": null,
            "_view_module_version": "1.2.0",
            "bar_color": null,
            "_model_module": "@jupyter-widgets/controls"
          }
        },
        "c5544250cb884d80af3fd4ea451b51ac": {
          "model_module": "@jupyter-widgets/base",
          "model_name": "LayoutModel",
          "state": {
            "_view_name": "LayoutView",
            "grid_template_rows": null,
            "right": null,
            "justify_content": null,
            "_view_module": "@jupyter-widgets/base",
            "overflow": null,
            "_model_module_version": "1.2.0",
            "_view_count": null,
            "flex_flow": null,
            "width": null,
            "min_width": null,
            "border": null,
            "align_items": null,
            "bottom": null,
            "_model_module": "@jupyter-widgets/base",
            "top": null,
            "grid_column": null,
            "overflow_y": null,
            "overflow_x": null,
            "grid_auto_flow": null,
            "grid_area": null,
            "grid_template_columns": null,
            "flex": null,
            "_model_name": "LayoutModel",
            "justify_items": null,
            "grid_row": null,
            "max_height": null,
            "align_content": null,
            "visibility": null,
            "align_self": null,
            "height": null,
            "min_height": null,
            "padding": null,
            "grid_auto_rows": null,
            "grid_gap": null,
            "max_width": null,
            "order": null,
            "_view_module_version": "1.2.0",
            "grid_template_areas": null,
            "object_position": null,
            "object_fit": null,
            "grid_auto_columns": null,
            "margin": null,
            "display": null,
            "left": null
          }
        },
        "0ad232e0d2ac42a18fc03a763fb55936": {
          "model_module": "@jupyter-widgets/controls",
          "model_name": "DescriptionStyleModel",
          "state": {
            "_view_name": "StyleView",
            "_model_name": "DescriptionStyleModel",
            "description_width": "",
            "_view_module": "@jupyter-widgets/base",
            "_model_module_version": "1.5.0",
            "_view_count": null,
            "_view_module_version": "1.2.0",
            "_model_module": "@jupyter-widgets/controls"
          }
        },
        "b687b22ffb3b46ffb3fd927225fd3943": {
          "model_module": "@jupyter-widgets/base",
          "model_name": "LayoutModel",
          "state": {
            "_view_name": "LayoutView",
            "grid_template_rows": null,
            "right": null,
            "justify_content": null,
            "_view_module": "@jupyter-widgets/base",
            "overflow": null,
            "_model_module_version": "1.2.0",
            "_view_count": null,
            "flex_flow": null,
            "width": null,
            "min_width": null,
            "border": null,
            "align_items": null,
            "bottom": null,
            "_model_module": "@jupyter-widgets/base",
            "top": null,
            "grid_column": null,
            "overflow_y": null,
            "overflow_x": null,
            "grid_auto_flow": null,
            "grid_area": null,
            "grid_template_columns": null,
            "flex": null,
            "_model_name": "LayoutModel",
            "justify_items": null,
            "grid_row": null,
            "max_height": null,
            "align_content": null,
            "visibility": null,
            "align_self": null,
            "height": null,
            "min_height": null,
            "padding": null,
            "grid_auto_rows": null,
            "grid_gap": null,
            "max_width": null,
            "order": null,
            "_view_module_version": "1.2.0",
            "grid_template_areas": null,
            "object_position": null,
            "object_fit": null,
            "grid_auto_columns": null,
            "margin": null,
            "display": null,
            "left": null
          }
        },
        "7dceb20bf28445ef9cd2126ffa7e6d26": {
          "model_module": "@jupyter-widgets/controls",
          "model_name": "HBoxModel",
          "state": {
            "_view_name": "HBoxView",
            "_dom_classes": [],
            "_model_name": "HBoxModel",
            "_view_module": "@jupyter-widgets/controls",
            "_model_module_version": "1.5.0",
            "_view_count": null,
            "_view_module_version": "1.5.0",
            "box_style": "",
            "layout": "IPY_MODEL_432662d61bc247e6b19932ed2ef42cad",
            "_model_module": "@jupyter-widgets/controls",
            "children": [
              "IPY_MODEL_22c08a68346c4cdcace6909c53642541",
              "IPY_MODEL_c4977bbb721043888a5879817e204cde"
            ]
          }
        },
        "432662d61bc247e6b19932ed2ef42cad": {
          "model_module": "@jupyter-widgets/base",
          "model_name": "LayoutModel",
          "state": {
            "_view_name": "LayoutView",
            "grid_template_rows": null,
            "right": null,
            "justify_content": null,
            "_view_module": "@jupyter-widgets/base",
            "overflow": null,
            "_model_module_version": "1.2.0",
            "_view_count": null,
            "flex_flow": null,
            "width": null,
            "min_width": null,
            "border": null,
            "align_items": null,
            "bottom": null,
            "_model_module": "@jupyter-widgets/base",
            "top": null,
            "grid_column": null,
            "overflow_y": null,
            "overflow_x": null,
            "grid_auto_flow": null,
            "grid_area": null,
            "grid_template_columns": null,
            "flex": null,
            "_model_name": "LayoutModel",
            "justify_items": null,
            "grid_row": null,
            "max_height": null,
            "align_content": null,
            "visibility": null,
            "align_self": null,
            "height": null,
            "min_height": null,
            "padding": null,
            "grid_auto_rows": null,
            "grid_gap": null,
            "max_width": null,
            "order": null,
            "_view_module_version": "1.2.0",
            "grid_template_areas": null,
            "object_position": null,
            "object_fit": null,
            "grid_auto_columns": null,
            "margin": null,
            "display": null,
            "left": null
          }
        },
        "22c08a68346c4cdcace6909c53642541": {
          "model_module": "@jupyter-widgets/controls",
          "model_name": "FloatProgressModel",
          "state": {
            "_view_name": "ProgressView",
            "style": "IPY_MODEL_880d95e02b8a448fa7f222b2624c01a9",
            "_dom_classes": [],
            "description": "Reading: ",
            "_model_name": "FloatProgressModel",
            "bar_style": "success",
            "max": 1,
            "_view_module": "@jupyter-widgets/controls",
            "_model_module_version": "1.5.0",
            "value": 1,
            "_view_count": null,
            "_view_module_version": "1.5.0",
            "orientation": "horizontal",
            "min": 0,
            "description_tooltip": null,
            "_model_module": "@jupyter-widgets/controls",
            "layout": "IPY_MODEL_320cb52e152b497ea49f188115f75f94"
          }
        },
        "c4977bbb721043888a5879817e204cde": {
          "model_module": "@jupyter-widgets/controls",
          "model_name": "HTMLModel",
          "state": {
            "_view_name": "HTMLView",
            "style": "IPY_MODEL_8336351e0e02400980dc3505adfd6fd4",
            "_dom_classes": [],
            "description": "",
            "_model_name": "HTMLModel",
            "placeholder": "​",
            "_view_module": "@jupyter-widgets/controls",
            "_model_module_version": "1.5.0",
            "value": " 279/? [01:30&lt;00:00,  3.09it/s]",
            "_view_count": null,
            "_view_module_version": "1.5.0",
            "description_tooltip": null,
            "_model_module": "@jupyter-widgets/controls",
            "layout": "IPY_MODEL_e0f69fed78f642b59b9aa8da8eed2911"
          }
        },
        "880d95e02b8a448fa7f222b2624c01a9": {
          "model_module": "@jupyter-widgets/controls",
          "model_name": "ProgressStyleModel",
          "state": {
            "_view_name": "StyleView",
            "_model_name": "ProgressStyleModel",
            "description_width": "initial",
            "_view_module": "@jupyter-widgets/base",
            "_model_module_version": "1.5.0",
            "_view_count": null,
            "_view_module_version": "1.2.0",
            "bar_color": null,
            "_model_module": "@jupyter-widgets/controls"
          }
        },
        "320cb52e152b497ea49f188115f75f94": {
          "model_module": "@jupyter-widgets/base",
          "model_name": "LayoutModel",
          "state": {
            "_view_name": "LayoutView",
            "grid_template_rows": null,
            "right": null,
            "justify_content": null,
            "_view_module": "@jupyter-widgets/base",
            "overflow": null,
            "_model_module_version": "1.2.0",
            "_view_count": null,
            "flex_flow": null,
            "width": null,
            "min_width": null,
            "border": null,
            "align_items": null,
            "bottom": null,
            "_model_module": "@jupyter-widgets/base",
            "top": null,
            "grid_column": null,
            "overflow_y": null,
            "overflow_x": null,
            "grid_auto_flow": null,
            "grid_area": null,
            "grid_template_columns": null,
            "flex": null,
            "_model_name": "LayoutModel",
            "justify_items": null,
            "grid_row": null,
            "max_height": null,
            "align_content": null,
            "visibility": null,
            "align_self": null,
            "height": null,
            "min_height": null,
            "padding": null,
            "grid_auto_rows": null,
            "grid_gap": null,
            "max_width": null,
            "order": null,
            "_view_module_version": "1.2.0",
            "grid_template_areas": null,
            "object_position": null,
            "object_fit": null,
            "grid_auto_columns": null,
            "margin": null,
            "display": null,
            "left": null
          }
        },
        "8336351e0e02400980dc3505adfd6fd4": {
          "model_module": "@jupyter-widgets/controls",
          "model_name": "DescriptionStyleModel",
          "state": {
            "_view_name": "StyleView",
            "_model_name": "DescriptionStyleModel",
            "description_width": "",
            "_view_module": "@jupyter-widgets/base",
            "_model_module_version": "1.5.0",
            "_view_count": null,
            "_view_module_version": "1.2.0",
            "_model_module": "@jupyter-widgets/controls"
          }
        },
        "e0f69fed78f642b59b9aa8da8eed2911": {
          "model_module": "@jupyter-widgets/base",
          "model_name": "LayoutModel",
          "state": {
            "_view_name": "LayoutView",
            "grid_template_rows": null,
            "right": null,
            "justify_content": null,
            "_view_module": "@jupyter-widgets/base",
            "overflow": null,
            "_model_module_version": "1.2.0",
            "_view_count": null,
            "flex_flow": null,
            "width": null,
            "min_width": null,
            "border": null,
            "align_items": null,
            "bottom": null,
            "_model_module": "@jupyter-widgets/base",
            "top": null,
            "grid_column": null,
            "overflow_y": null,
            "overflow_x": null,
            "grid_auto_flow": null,
            "grid_area": null,
            "grid_template_columns": null,
            "flex": null,
            "_model_name": "LayoutModel",
            "justify_items": null,
            "grid_row": null,
            "max_height": null,
            "align_content": null,
            "visibility": null,
            "align_self": null,
            "height": null,
            "min_height": null,
            "padding": null,
            "grid_auto_rows": null,
            "grid_gap": null,
            "max_width": null,
            "order": null,
            "_view_module_version": "1.2.0",
            "grid_template_areas": null,
            "object_position": null,
            "object_fit": null,
            "grid_auto_columns": null,
            "margin": null,
            "display": null,
            "left": null
          }
        }
      }
    }
  },
  "cells": [
    {
      "cell_type": "code",
      "metadata": {
        "colab": {
          "base_uri": "https://localhost:8080/"
        },
        "id": "X_bl9DAFSLvW",
        "outputId": "de7a7649-5790-418e-c8c1-177d50f40b95"
      },
      "source": [
        "from google.colab import drive\n",
        "drive.mount('/content/drive')"
      ],
      "execution_count": 3,
      "outputs": [
        {
          "output_type": "stream",
          "text": [
            "Drive already mounted at /content/drive; to attempt to forcibly remount, call drive.mount(\"/content/drive\", force_remount=True).\n"
          ],
          "name": "stdout"
        }
      ]
    },
    {
      "cell_type": "code",
      "metadata": {
        "colab": {
          "base_uri": "https://localhost:8080/"
        },
        "id": "GvXi6Vp_VJEP",
        "outputId": "804de9d1-0871-4d1d-94a3-c4de77b8f8fa"
      },
      "source": [
        "%cd '/content/drive/MyDrive/Project'"
      ],
      "execution_count": 4,
      "outputs": [
        {
          "output_type": "stream",
          "text": [
            "/content/drive/.shortcut-targets-by-id/1rJqNaVhv0sfkYJG2oD_BHRhiVya6B7OJ/Project\n"
          ],
          "name": "stdout"
        }
      ]
    },
    {
      "cell_type": "code",
      "metadata": {
        "id": "eSmYCCbJiEdn"
      },
      "source": [
        "#imports:\r\n",
        "import cv2\r\n",
        "import glob\r\n",
        "import matplotlib.pyplot as plt\r\n",
        "import numpy as np\r\n",
        "\r\n",
        "import torch\r\n",
        "import torch.nn as nn\r\n",
        "import torch.optim as optim\r\n",
        "from tqdm.auto import tqdm, trange\r\n",
        "import torch.nn.functional as F\r\n",
        "from torchvision import transforms"
      ],
      "execution_count": 5,
      "outputs": []
    },
    {
      "cell_type": "code",
      "metadata": {
        "colab": {
          "base_uri": "https://localhost:8080/"
        },
        "id": "DC8a3dH7Ug35",
        "outputId": "389c530c-3700-4d0f-87b2-34cc9cb6ff07"
      },
      "source": [
        "# Constants:\r\n",
        "CROP_X = 100\r\n",
        "CROP_Y = 100\r\n",
        "BATCH_SIZE = 32\r\n",
        "\r\n",
        "#device:\r\n",
        "device = torch.device('cuda' if torch.cuda.is_available() else 'cpu')\r\n",
        "device"
      ],
      "execution_count": 6,
      "outputs": [
        {
          "output_type": "execute_result",
          "data": {
            "text/plain": [
              "device(type='cuda')"
            ]
          },
          "metadata": {
            "tags": []
          },
          "execution_count": 6
        }
      ]
    },
    {
      "cell_type": "code",
      "metadata": {
        "id": "hRvK7CoRhWte"
      },
      "source": [
        "def crop_center(img, cropx, cropy):\r\n",
        "    x, y  = img.shape\r\n",
        "    startx = x // 2 - (cropx // 2)\r\n",
        "    starty = y // 2 - (cropy // 2)\r\n",
        "    return img[startx:startx + cropx, starty:starty + cropy ]\r\n",
        "\r\n",
        "def read_dataset(path):\r\n",
        "    all_images = dict()\r\n",
        "    for filename in tqdm(glob.iglob(path + '/*.png' , recursive=True) , desc = \"Reading\"):\r\n",
        "        image = cv2.imread(filename , cv2.IMREAD_GRAYSCALE)\r\n",
        "        image = crop_center(image , CROP_X , CROP_Y)\r\n",
        "        image_name = filename.split('/')[2]\r\n",
        "        all_images[image_name] = image\r\n",
        "    return all_images\r\n",
        "\r\n",
        "\r\n",
        "def matching (images , masks):\r\n",
        "    dataset = []\r\n",
        "    for image_name in images:\r\n",
        "        image = images[image_name]\r\n",
        "        image = image - image.min()\r\n",
        "        image = image / image.max()\r\n",
        "        image = torch.Tensor(image).unsqueeze(0)\r\n",
        "\r\n",
        "        mask = masks[image_name]\r\n",
        "        mask = mask - mask.min()\r\n",
        "        mask = mask / mask.max()\r\n",
        "        mask = torch.Tensor(mask).unsqueeze(0)\r\n",
        "        dataset.append((image , mask))\r\n",
        "    return dataset"
      ],
      "execution_count": 7,
      "outputs": []
    },
    {
      "cell_type": "code",
      "metadata": {
        "colab": {
          "base_uri": "https://localhost:8080/",
          "height": 220,
          "referenced_widgets": [
            "946867b636e3489ebbea5941c78314e3",
            "e853921a03294b21b286cd0a1587bb39",
            "cdcca2ce17fe48d88a33182f67c80d0d",
            "b8ea171ccb554b68ab41f542c80c746c",
            "eec2d656969e46a7a4df15d0f4b25267",
            "0175f0119c9d4c90a64fed8e23c73d6c",
            "1aa87ab347d541cea03fb9b3d3201c04",
            "ec159ab17fd145abab66866fcc770ea7",
            "3a69291321b9423990805e10f93a2b56",
            "780adb78ac1f4279b76ce26944ca81da",
            "518dac8933484095b3cbcbc9cc7da654",
            "55c18197709d4ee6bf510119f25e8652",
            "011f4b21cb07434e9ebda0df0f9725f3",
            "c460fe55e5e640eb847c15b60884bb69",
            "3a49fa1c1edb4cc0999f45fe3592a929",
            "3c20b59eebac44cd9a4dc8d1e2a81c78",
            "4e7e1a70ca0f49be8ab5e13a967390bc",
            "bd3afe6b666744658805a56e988840b5",
            "216f76ddcdd34a8aa09e2a8f0f5dc93f",
            "651fa59c986d4a6091eb1b3baa75d87d",
            "6303a2b85cec4b10bf0a2a5889a816e3",
            "c5544250cb884d80af3fd4ea451b51ac",
            "0ad232e0d2ac42a18fc03a763fb55936",
            "b687b22ffb3b46ffb3fd927225fd3943",
            "7dceb20bf28445ef9cd2126ffa7e6d26",
            "432662d61bc247e6b19932ed2ef42cad",
            "22c08a68346c4cdcace6909c53642541",
            "c4977bbb721043888a5879817e204cde",
            "880d95e02b8a448fa7f222b2624c01a9",
            "320cb52e152b497ea49f188115f75f94",
            "8336351e0e02400980dc3505adfd6fd4",
            "e0f69fed78f642b59b9aa8da8eed2911"
          ]
        },
        "id": "yZxPVMXzjcvy",
        "outputId": "83e6edee-f50e-4e4a-e53d-4c7fc8254a5c"
      },
      "source": [
        "train_images = read_dataset(\"dataset/train\")\r\n",
        "train_masks = read_dataset(\"dataset/train_label\")\r\n",
        "train_dataset = matching(train_images , train_masks)\r\n",
        "\r\n",
        "test_images = read_dataset(\"dataset/test\")\r\n",
        "test_masks = read_dataset(\"dataset/test_label\")\r\n",
        "test_dataset = matching(test_images , test_masks)"
      ],
      "execution_count": 8,
      "outputs": [
        {
          "output_type": "display_data",
          "data": {
            "application/vnd.jupyter.widget-view+json": {
              "model_id": "946867b636e3489ebbea5941c78314e3",
              "version_minor": 0,
              "version_major": 2
            },
            "text/plain": [
              "HBox(children=(FloatProgress(value=1.0, bar_style='info', description='Reading', max=1.0, style=ProgressStyle(…"
            ]
          },
          "metadata": {
            "tags": []
          }
        },
        {
          "output_type": "stream",
          "text": [
            "\n"
          ],
          "name": "stdout"
        },
        {
          "output_type": "display_data",
          "data": {
            "application/vnd.jupyter.widget-view+json": {
              "model_id": "3a69291321b9423990805e10f93a2b56",
              "version_minor": 0,
              "version_major": 2
            },
            "text/plain": [
              "HBox(children=(FloatProgress(value=1.0, bar_style='info', description='Reading', max=1.0, style=ProgressStyle(…"
            ]
          },
          "metadata": {
            "tags": []
          }
        },
        {
          "output_type": "stream",
          "text": [
            "\n"
          ],
          "name": "stdout"
        },
        {
          "output_type": "display_data",
          "data": {
            "application/vnd.jupyter.widget-view+json": {
              "model_id": "4e7e1a70ca0f49be8ab5e13a967390bc",
              "version_minor": 0,
              "version_major": 2
            },
            "text/plain": [
              "HBox(children=(FloatProgress(value=1.0, bar_style='info', description='Reading', max=1.0, style=ProgressStyle(…"
            ]
          },
          "metadata": {
            "tags": []
          }
        },
        {
          "output_type": "stream",
          "text": [
            "\n"
          ],
          "name": "stdout"
        },
        {
          "output_type": "display_data",
          "data": {
            "application/vnd.jupyter.widget-view+json": {
              "model_id": "7dceb20bf28445ef9cd2126ffa7e6d26",
              "version_minor": 0,
              "version_major": 2
            },
            "text/plain": [
              "HBox(children=(FloatProgress(value=1.0, bar_style='info', description='Reading', max=1.0, style=ProgressStyle(…"
            ]
          },
          "metadata": {
            "tags": []
          }
        },
        {
          "output_type": "stream",
          "text": [
            "\n"
          ],
          "name": "stdout"
        }
      ]
    },
    {
      "cell_type": "code",
      "metadata": {
        "id": "6eevV1tFFMHe",
        "colab": {
          "base_uri": "https://localhost:8080/"
        },
        "outputId": "9bd736f7-0522-4a3f-f161-96838c6e4fbb"
      },
      "source": [
        "%pip install -q \"monai[tqdm, nibabel, gdown, ignite]\""
      ],
      "execution_count": 9,
      "outputs": [
        {
          "output_type": "stream",
          "text": [
            "\u001b[K     |████████████████████████████████| 358kB 17.6MB/s \n",
            "\u001b[K     |████████████████████████████████| 184kB 59.1MB/s \n",
            "\u001b[K     |████████████████████████████████| 81kB 12.2MB/s \n",
            "\u001b[?25h"
          ],
          "name": "stdout"
        }
      ]
    },
    {
      "cell_type": "code",
      "metadata": {
        "id": "0burnB3aFPwn"
      },
      "source": [
        "import monai\r\n",
        "from monai.transforms import Compose ,ToTensorD,RandRotated, Rotate90d , RandFlipd , SpacingD , RandRotate90d , RandAffineD ,AddChannelD"
      ],
      "execution_count": 10,
      "outputs": []
    },
    {
      "cell_type": "code",
      "metadata": {
        "id": "t7y67xVEP-vC"
      },
      "source": [
        "from skimage import img_as_float64"
      ],
      "execution_count": 11,
      "outputs": []
    },
    {
      "cell_type": "code",
      "metadata": {
        "id": "50fePcGTAq_1"
      },
      "source": [
        "KEYS = (\"image\", \"mask\")\r\n",
        "\r\n",
        "xform = Compose([\r\n",
        "    RandRotate90d(KEYS), \r\n",
        "    RandFlipd(KEYS),             \r\n",
        "    ToTensorD(KEYS),\r\n",
        "])\r\n",
        "\r\n",
        "def augmentation(train_dataset):\r\n",
        "    dataset = []\r\n",
        "    for image , mask in train_dataset:\r\n",
        "        image = img_as_float64(image)\r\n",
        "        mask = img_as_float64(mask)\r\n",
        "\r\n",
        "        data_dict = xform({\"image\": image, \"mask\": mask})\r\n",
        "        image = data_dict[\"image\"]\r\n",
        "        mask = data_dict[\"mask\"]\r\n",
        "        dataset.append((image , mask))\r\n",
        "    return dataset"
      ],
      "execution_count": 12,
      "outputs": []
    },
    {
      "cell_type": "code",
      "metadata": {
        "id": "6SuMf16oDt7W"
      },
      "source": [
        "aug_dataset = augmentation(train_dataset)"
      ],
      "execution_count": 13,
      "outputs": []
    },
    {
      "cell_type": "code",
      "metadata": {
        "id": "6_u_caARRBoX"
      },
      "source": [
        "train_dataset = train_dataset + aug_dataset"
      ],
      "execution_count": 14,
      "outputs": []
    },
    {
      "cell_type": "code",
      "metadata": {
        "id": "n5kRTK0qa6IA"
      },
      "source": [
        "train_loader = torch.utils.data.DataLoader(train_dataset , batch_size=BATCH_SIZE)\r\n",
        "test_loader = torch.utils.data.DataLoader(test_dataset , batch_size=BATCH_SIZE)"
      ],
      "execution_count": 15,
      "outputs": []
    },
    {
      "cell_type": "markdown",
      "metadata": {
        "id": "PHPhq6V2VJee"
      },
      "source": [
        "# Model"
      ]
    },
    {
      "cell_type": "code",
      "metadata": {
        "id": "ePbNYuEpS4ZB"
      },
      "source": [
        "class FCN(nn.Module):\r\n",
        "    def __init__(self):\r\n",
        "        super(FCN, self).__init__()\r\n",
        "\r\n",
        "        self.zero_pad = nn.ZeroPad2d(padding=5)\r\n",
        "\r\n",
        "        # Block 1\r\n",
        "        self.conv1 = nn.Conv2d(1 , 64 , kernel_size=3, stride=1 , padding = 1)\r\n",
        "        self.bn1 = nn.BatchNorm2d(64)\r\n",
        "        self.relu1  = nn.ReLU()\r\n",
        "\r\n",
        "        self.conv2 = nn.Conv2d(64 , 64 , kernel_size=3, stride=1 , padding = 1)\r\n",
        "        self.bn2 = nn.BatchNorm2d(64)\r\n",
        "        self.relu2  = nn.ReLU()\r\n",
        "\r\n",
        "        self.conv3 = nn.Conv2d(64 , 64 , kernel_size=3, stride=1 , padding = 1)\r\n",
        "        self.relu3  = nn.ReLU()\r\n",
        "        self.bn3 = nn.BatchNorm2d(64)\r\n",
        "\r\n",
        "        self.pool1 = nn.MaxPool2d(kernel_size = 3 , stride = 2)\r\n",
        "  \r\n",
        "\r\n",
        "\r\n",
        "        # Block 2\r\n",
        "        self.conv4 = nn.Conv2d(64 , 128 , kernel_size=3, stride=1 , padding = 1)\r\n",
        "        self.bn4 = nn.BatchNorm2d(128)\r\n",
        "        self.relu4  = nn.ReLU()\r\n",
        "\r\n",
        "        self.conv5 = nn.Conv2d(128 , 128 , kernel_size=3, stride=1 , padding = 1)\r\n",
        "        self.bn5 = nn.BatchNorm2d(128)\r\n",
        "        self.relu5  = nn.ReLU()\r\n",
        "\r\n",
        "        self.conv6 = nn.Conv2d(128 , 128 , kernel_size=3, stride=1 , padding = 1)\r\n",
        "        self.bn6 = nn.BatchNorm2d(128)\r\n",
        "        self.relu6  = nn.ReLU()\r\n",
        "\r\n",
        "        self.conv7 = nn.Conv2d(128 , 128 , kernel_size=3, stride=1 , padding = 1)\r\n",
        "        self.bn7 = nn.BatchNorm2d(128)\r\n",
        "        self.relu7  = nn.ReLU()\r\n",
        "\r\n",
        "        self.pool2 = nn.MaxPool2d(kernel_size = 3 , stride = 2)\r\n",
        "\r\n",
        "\r\n",
        "\r\n",
        "        # Block 3\r\n",
        "        self.conv8 = nn.Conv2d(128 , 256, kernel_size=3, stride=1, padding = 1)\r\n",
        "        self.bn8 = nn.BatchNorm2d(256)\r\n",
        "        self.relu8  = nn.ReLU()\r\n",
        "\r\n",
        "        self.conv9 = nn.Conv2d(256 , 256, kernel_size=3, stride=1, padding = 1)\r\n",
        "        self.bn9 = nn.BatchNorm2d(256)\r\n",
        "        self.relu9  = nn.ReLU()\r\n",
        "\r\n",
        "        self.conv10 = nn.Conv2d(256 , 256, kernel_size=3, stride=1, padding = 1)\r\n",
        "        self.bn10 = nn.BatchNorm2d(256)\r\n",
        "        self.relu10  = nn.ReLU()\r\n",
        "\r\n",
        "        self.conv11 = nn.Conv2d(256 , 256, kernel_size=3, stride=1, padding = 1)\r\n",
        "        self.bn11 = nn.BatchNorm2d(256)\r\n",
        "        self.relu11  = nn.ReLU()\r\n",
        "\r\n",
        "        self.pool3 = nn.MaxPool2d(kernel_size = 3 , stride = 2)\r\n",
        "\r\n",
        "        self.dropout1 = nn.Dropout(0.5)\r\n",
        "\r\n",
        "\r\n",
        "        # Block 4\r\n",
        "        self.conv12 = nn.Conv2d(256 , 512, kernel_size=3, stride=1, padding = 1)\r\n",
        "        self.bn12 = nn.BatchNorm2d(512)\r\n",
        "        self.relu12  = nn.ReLU()\r\n",
        "\r\n",
        "        self.conv13 = nn.Conv2d(512 , 512, kernel_size=3, stride=1, padding = 1)\r\n",
        "        self.bn13 = nn.BatchNorm2d(512)\r\n",
        "        self.relu13  = nn.ReLU()\r\n",
        "\r\n",
        "        self.conv14 = nn.Conv2d(512 , 512, kernel_size=3, stride=1, padding = 1)\r\n",
        "        self.bn14 = nn.BatchNorm2d(512)\r\n",
        "        self.relu14  = nn.ReLU()\r\n",
        "\r\n",
        "        self.conv15 = nn.Conv2d(512 , 512, kernel_size=3, stride=1, padding = 1)\r\n",
        "        self.bn15 = nn.BatchNorm2d(512)\r\n",
        "        self.relu15  = nn.ReLU()\r\n",
        "\r\n",
        "        self.dropout2 = nn.Dropout(0.5)\r\n",
        "        \r\n",
        "\r\n",
        "        # Up Sampling\r\n",
        "        self.unpsample1 = nn.ConvTranspose2d(512 , 256 ,kernel_size=3,stride=2)\r\n",
        "        self.conv16 = nn.Conv2d(256 , 256, kernel_size=1, stride=1)\r\n",
        "        self.bn16 = nn.BatchNorm2d(256)\r\n",
        "\r\n",
        "        self.unpsample2 = nn.ConvTranspose2d(256 , 128 ,kernel_size=3,stride=2)\r\n",
        "        self.conv17 = nn.Conv2d(128 , 128, kernel_size=2, stride=1)\r\n",
        "        self.bn17 = nn.BatchNorm2d(128)\r\n",
        "\r\n",
        "        self.unpsample3 = nn.ConvTranspose2d(128 , 64 ,kernel_size=3,stride=2)\r\n",
        "        self.conv18 = nn.Conv2d(64 ,64, kernel_size=2, stride=1)\r\n",
        "        self.bn18 = nn.BatchNorm2d(64)\r\n",
        "\r\n",
        "        self.conv19 = nn.Conv2d(64 ,1, kernel_size=1, stride=1)\r\n",
        "\r\n",
        "        self.sigmoid = nn.Sigmoid()\r\n",
        "        self._initialize_weights()\r\n",
        "\r\n",
        "\r\n",
        "    def forward(self, x):\r\n",
        "\r\n",
        "        #print(x.shape)\r\n",
        "        x = self.zero_pad(x)\r\n",
        "        #print(x.shape)\r\n",
        "\r\n",
        "\r\n",
        "        ############################################## Block 1\r\n",
        "        x = self.relu1(self.bn1(self.conv1(x)))\r\n",
        "        #print(\"1\" , x.shape)    \r\n",
        "        x = self.relu2(self.bn2(self.conv2(x)))\r\n",
        "        #print(\"2\" , x.shape)    \r\n",
        "        x = self.relu3(self.bn3(self.conv3(x)))\r\n",
        "        #print(\"3\" , x.shape)    \r\n",
        "        x = self.pool1(x)\r\n",
        "        #print(\"pool 1 \" , x.shape)   \r\n",
        "\r\n",
        "\r\n",
        "        ############################################## Block 2\r\n",
        "        x = self.relu4(self.bn4(self.conv4(x)))\r\n",
        "        #print(\"4\" , x.shape)    \r\n",
        "        x = self.relu5(self.bn5(self.conv5(x)))\r\n",
        "        #print(\"5\" , x.shape)    \r\n",
        "        x = self.relu6(self.bn6(self.conv6(x)))\r\n",
        "        #print(\"6\" , x.shape)  \r\n",
        "        x = self.relu7(self.bn7(self.conv7(x)))\r\n",
        "        #print(\"7\" , x.shape)    \r\n",
        "        x = self.pool2(x)\r\n",
        "        #print(\"pool 2 \" , x.shape)\r\n",
        "\r\n",
        "\r\n",
        "        ############################################## Block 3\r\n",
        "        x = self.relu8(self.bn8(self.conv8(x)))\r\n",
        "        #print(\"8\" , x.shape)    \r\n",
        "        x = self.relu9(self.bn9(self.conv9(x)))\r\n",
        "        #print(\"9\" , x.shape)    \r\n",
        "        x = self.relu10(self.bn10(self.conv10(x)))\r\n",
        "        #print(\"10\" , x.shape)    \r\n",
        "        x = self.relu11(self.bn11(self.conv11(x)))\r\n",
        "        #print(\"11\" , x.shape)    \r\n",
        "        x = self.pool3(x)\r\n",
        "        #print(\"pool 3 \" , x.shape)  \r\n",
        "\r\n",
        "        x = self.dropout1(x)\r\n",
        "        #print(\"drop out 1 \" , x.shape)  \r\n",
        "\r\n",
        "\r\n",
        "        ############################################## Block 4\r\n",
        "        x = self.relu12(self.bn12(self.conv12(x)))\r\n",
        "        #print(\"12\" , x.shape)    \r\n",
        "\r\n",
        "        x = self.relu13(self.bn13(self.conv13(x)))\r\n",
        "        #print(\"13\" , x.shape)    \r\n",
        "\r\n",
        "        x = self.relu14(self.bn14(self.conv14(x)))\r\n",
        "        #print(\"14\" , x.shape)    \r\n",
        "        x = self.relu15(self.bn15(self.conv15(x)))\r\n",
        "        #print(\"15\" , x.shape)    \r\n",
        "        x = self.dropout2(x)\r\n",
        "        #print(\"drop out 2 \" , x.shape)  \r\n",
        "        \r\n",
        "        \r\n",
        "        ############################################# Up Sampling \r\n",
        "        x = self.unpsample1(x)\r\n",
        "        #print(\"up 1 \" , x.shape)    \r\n",
        "        x = self.bn16(self.conv16(x))\r\n",
        "        #print(\"conv up 1 \" , x.shape)    \r\n",
        "\r\n",
        "        x = self.unpsample2(x)\r\n",
        "        #print(\"up 2\" , x.shape)    \r\n",
        "        x = self.bn17(self.conv17(x))\r\n",
        "        #print(\"conv up 2 \" , x.shape)    \r\n",
        "\r\n",
        "        x = self.unpsample3(x)\r\n",
        "        #print(\"up 3\" , x.shape)    \r\n",
        "\r\n",
        "        x = self.bn18(self.conv18(x))\r\n",
        "        #print(\"conv up 3 \" , x.shape) \r\n",
        "         \r\n",
        "        #############################################  Final\r\n",
        "        x = self.conv19(x) \r\n",
        "        #print(x.shape)\r\n",
        "        x = self.sigmoid(x)\r\n",
        "        return x\r\n",
        "\r\n",
        "    def _initialize_weights(self):\r\n",
        "        for module in self.modules():\r\n",
        "            if type(module) in { nn.Conv2d, nn.ConvTranspose2d}:\r\n",
        "                torch.nn.init.xavier_normal_(module.weight)\r\n",
        "                torch.nn.init.zeros_(module.bias)\r\n"
      ],
      "execution_count": 169,
      "outputs": []
    },
    {
      "cell_type": "code",
      "metadata": {
        "id": "q0JT4I9acSc8"
      },
      "source": [
        "def mvn(tensor):\r\n",
        "    '''Performs per-channel spatial mean-variance normalization.'''\r\n",
        "    epsilon = 1e-6\r\n",
        "    mean = torch.mean(tensor, dim=(2,3), keepdims=True)\r\n",
        "    std = torch.std(tensor, dim=(2,3), keepdims=True)\r\n",
        "    mvn = (tensor - mean) / (std + epsilon)\r\n",
        "    \r\n",
        "    return mvn"
      ],
      "execution_count": 39,
      "outputs": []
    },
    {
      "cell_type": "code",
      "metadata": {
        "id": "GeBU7zssc91V"
      },
      "source": [
        "class FCN(nn.Module):\r\n",
        "    def __init__(self):\r\n",
        "        super(FCN, self).__init__()\r\n",
        "\r\n",
        "        self.zero_pad = nn.ZeroPad2d(padding=5)\r\n",
        "\r\n",
        "        # Block 1\r\n",
        "        self.conv1 = nn.Conv2d(1 , 64 , kernel_size=3, stride=1 , padding = 1)\r\n",
        "        self.bn1 = nn.BatchNorm2d(64)\r\n",
        "        self.relu1  = nn.ReLU()\r\n",
        "\r\n",
        "        self.conv2 = nn.Conv2d(64 , 64 , kernel_size=3, stride=1 , padding = 1)\r\n",
        "        self.bn2 = nn.BatchNorm2d(64)\r\n",
        "        self.relu2  = nn.ReLU()\r\n",
        "\r\n",
        "        self.conv3 = nn.Conv2d(64 , 64 , kernel_size=3, stride=1 , padding = 1)\r\n",
        "        self.relu3  = nn.ReLU()\r\n",
        "        self.bn3 = nn.BatchNorm2d(64)\r\n",
        "\r\n",
        "        self.pool1 = nn.MaxPool2d(kernel_size = 3 , stride = 2)\r\n",
        "  \r\n",
        "\r\n",
        "\r\n",
        "        # Block 2\r\n",
        "        self.conv4 = nn.Conv2d(64 , 128 , kernel_size=3, stride=1 , padding = 1)\r\n",
        "        self.bn4 = nn.BatchNorm2d(128)\r\n",
        "        self.relu4  = nn.ReLU()\r\n",
        "\r\n",
        "        self.conv5 = nn.Conv2d(128 , 128 , kernel_size=3, stride=1 , padding = 1)\r\n",
        "        self.bn5 = nn.BatchNorm2d(128)\r\n",
        "        self.relu5  = nn.ReLU()\r\n",
        "\r\n",
        "        self.conv6 = nn.Conv2d(128 , 128 , kernel_size=3, stride=1 , padding = 1)\r\n",
        "        self.bn6 = nn.BatchNorm2d(128)\r\n",
        "        self.relu6  = nn.ReLU()\r\n",
        "\r\n",
        "        self.conv7 = nn.Conv2d(128 , 128 , kernel_size=3, stride=1 , padding = 1)\r\n",
        "        self.bn7 = nn.BatchNorm2d(128)\r\n",
        "        self.relu7  = nn.ReLU()\r\n",
        "\r\n",
        "        self.pool2 = nn.MaxPool2d(kernel_size = 3 , stride = 2)\r\n",
        "\r\n",
        "\r\n",
        "\r\n",
        "        # Block 3\r\n",
        "        self.conv8 = nn.Conv2d(128 , 256, kernel_size=3, stride=1, padding = 1)\r\n",
        "        self.bn8 = nn.BatchNorm2d(256)\r\n",
        "        self.relu8  = nn.ReLU()\r\n",
        "\r\n",
        "        self.conv9 = nn.Conv2d(256 , 256, kernel_size=3, stride=1, padding = 1)\r\n",
        "        self.bn9 = nn.BatchNorm2d(256)\r\n",
        "        self.relu9  = nn.ReLU()\r\n",
        "\r\n",
        "        self.conv10 = nn.Conv2d(256 , 256, kernel_size=3, stride=1, padding = 1)\r\n",
        "        self.bn10 = nn.BatchNorm2d(256)\r\n",
        "        self.relu10  = nn.ReLU()\r\n",
        "\r\n",
        "        self.conv11 = nn.Conv2d(256 , 256, kernel_size=3, stride=1, padding = 1)\r\n",
        "        self.bn11 = nn.BatchNorm2d(256)\r\n",
        "        self.relu11  = nn.ReLU()\r\n",
        "\r\n",
        "        self.pool3 = nn.MaxPool2d(kernel_size = 3 , stride = 2)\r\n",
        "\r\n",
        "        self.dropout1 = nn.Dropout(0.5)\r\n",
        "\r\n",
        "\r\n",
        "        # Block 4\r\n",
        "        self.conv12 = nn.Conv2d(256 , 512, kernel_size=3, stride=1, padding = 1)\r\n",
        "        self.bn12 = nn.BatchNorm2d(512)\r\n",
        "        self.relu12  = nn.ReLU()\r\n",
        "\r\n",
        "        self.conv13 = nn.Conv2d(512 , 512, kernel_size=3, stride=1, padding = 1)\r\n",
        "        self.bn13 = nn.BatchNorm2d(512)\r\n",
        "        self.relu13  = nn.ReLU()\r\n",
        "\r\n",
        "        self.conv14 = nn.Conv2d(512 , 512, kernel_size=3, stride=1, padding = 1)\r\n",
        "        self.bn14 = nn.BatchNorm2d(512)\r\n",
        "        self.relu14  = nn.ReLU()\r\n",
        "\r\n",
        "        self.conv15 = nn.Conv2d(512 , 512, kernel_size=3, stride=1, padding = 1)\r\n",
        "        self.bn15 = nn.BatchNorm2d(512)\r\n",
        "        self.relu15  = nn.ReLU()\r\n",
        "\r\n",
        "        self.dropout2 = nn.Dropout(0.5)\r\n",
        "        \r\n",
        "\r\n",
        "        # Up Sampling\r\n",
        "        self.unpsample1 = nn.ConvTranspose2d(512 , 256 ,kernel_size=3,stride=2)\r\n",
        "        self.conv16 = nn.Conv2d(256 , 256, kernel_size=1, stride=1)\r\n",
        "        self.bn16 = nn.BatchNorm2d(256)\r\n",
        "\r\n",
        "        self.unpsample2 = nn.ConvTranspose2d(256 , 128 ,kernel_size=3,stride=2)\r\n",
        "        self.conv17 = nn.Conv2d(128 , 128, kernel_size=2, stride=1)\r\n",
        "        self.bn17 = nn.BatchNorm2d(128)\r\n",
        "\r\n",
        "        self.unpsample3 = nn.ConvTranspose2d(128 , 64 ,kernel_size=3,stride=2)\r\n",
        "        self.conv18 = nn.Conv2d(64 ,64, kernel_size=2, stride=1)\r\n",
        "        self.bn18 = nn.BatchNorm2d(64)\r\n",
        "\r\n",
        "        self.conv19 = nn.Conv2d(64 ,1, kernel_size=1, stride=1)\r\n",
        "\r\n",
        "        self.sigmoid = nn.Sigmoid()\r\n",
        "        self._initialize_weights()\r\n",
        "        \r\n",
        "\r\n",
        "    def forward(self, x):\r\n",
        "\r\n",
        "        #print(x.shape)\r\n",
        "        x = self.zero_pad(x)\r\n",
        "        #print(x.shape)\r\n",
        "\r\n",
        "\r\n",
        "        ############################################## Block 1\r\n",
        "        x = self.relu1(mvn(self.conv1(x)))\r\n",
        "        x = self.relu2(mvn(self.conv2(x)))\r\n",
        "        x = self.relu3(mvn(self.conv3(x)))\r\n",
        "        x = self.pool1(x)\r\n",
        "\r\n",
        "\r\n",
        "        ############################################## Block 2\r\n",
        "        x = self.relu4(mvn(self.conv4(x)))\r\n",
        "        #print(\"4\" , x.shape)    \r\n",
        "        x = self.relu5(mvn(self.conv5(x)))\r\n",
        "        #print(\"5\" , x.shape)    \r\n",
        "        x = self.relu6(mvn(self.conv6(x)))\r\n",
        "        #print(\"6\" , x.shape)  \r\n",
        "        x = self.relu7(mvn(self.conv7(x)))\r\n",
        "        #print(\"7\" , x.shape)    \r\n",
        "        x = self.pool2(x)\r\n",
        "        #print(\"pool 2 \" , x.shape)\r\n",
        "\r\n",
        "\r\n",
        "        ############################################## Block 3\r\n",
        "        x = self.relu8(mvn(self.conv8(x)))\r\n",
        "        #print(\"8\" , x.shape)    \r\n",
        "        x = self.relu9(mvn(self.conv9(x)))\r\n",
        "        #print(\"9\" , x.shape)    \r\n",
        "        x = self.relu10(mvn(self.conv10(x)))\r\n",
        "        #print(\"10\" , x.shape)    \r\n",
        "        x = self.relu11(mvn(self.conv11(x)))\r\n",
        "        #print(\"11\" , x.shape)    \r\n",
        "        x = self.pool3(x)\r\n",
        "        #print(\"pool 3 \" , x.shape)  \r\n",
        "\r\n",
        "        x = self.dropout1(x)\r\n",
        "        #print(\"drop out 1 \" , x.shape)  \r\n",
        "\r\n",
        "\r\n",
        "        ############################################## Block 4\r\n",
        "        x = self.relu12(mvn(self.conv12(x)))\r\n",
        "        #print(\"12\" , x.shape)    \r\n",
        "\r\n",
        "        x = self.relu13(mvn(self.conv13(x)))\r\n",
        "        #print(\"13\" , x.shape)    \r\n",
        "\r\n",
        "        x = self.relu14(mvn(self.conv14(x)))\r\n",
        "        #print(\"14\" , x.shape)    \r\n",
        "        x = self.relu15(mvn(self.conv15(x)))\r\n",
        "        #print(\"15\" , x.shape)    \r\n",
        "        x = self.dropout2(x)\r\n",
        "        #print(\"drop out 2 \" , x.shape)  \r\n",
        "        \r\n",
        "        \r\n",
        "        ############################################# Up Sampling \r\n",
        "        x = self.unpsample1(x)\r\n",
        "        #print(\"up 1 \" , x.shape)    \r\n",
        "        x = mvn(self.conv16(x))\r\n",
        "        #print(\"conv up 1 \" , x.shape)    \r\n",
        "\r\n",
        "        x = self.unpsample2(x)\r\n",
        "        #print(\"up 2\" , x.shape)    \r\n",
        "        x = mvn(self.conv17(x))\r\n",
        "        #print(\"conv up 2 \" , x.shape)    \r\n",
        "\r\n",
        "        x = self.unpsample3(x)\r\n",
        "        #print(\"up 3\" , x.shape)    \r\n",
        "\r\n",
        "        x = mvn(self.conv18(x))\r\n",
        "        #print(\"conv up 3 \" , x.shape) \r\n",
        "         \r\n",
        "        #############################################  Final\r\n",
        "        x = self.conv19(x) \r\n",
        "        #print(x.shape)\r\n",
        "        x = self.sigmoid(x)\r\n",
        "        return x\r\n",
        "\r\n",
        "    def _initialize_weights(self):\r\n",
        "        for module in self.modules():\r\n",
        "            if type(module) in { nn.Conv2d, nn.ConvTranspose2d}:\r\n",
        "                torch.nn.init.xavier_normal_(module.weight)\r\n",
        "                torch.nn.init.zeros_(module.bias)\r\n"
      ],
      "execution_count": 57,
      "outputs": []
    },
    {
      "cell_type": "code",
      "metadata": {
        "id": "YNuePHoqHm1S"
      },
      "source": [
        "def dice_metric(masks , pred_masks):\r\n",
        "    dice = 0\r\n",
        "    k = 0\r\n",
        "    for i in range(len(masks)):\r\n",
        "        k+=1\r\n",
        "        im1 = masks[i].squeeze(0).cpu().detach()\r\n",
        "        im2 = pred_masks[i].squeeze(0).cpu().detach()\r\n",
        "        im2 = (im2>0.1).float()*1\r\n",
        "\r\n",
        "        im1 = np.asarray(im1).astype(np.bool)\r\n",
        "        im2 = np.asarray(im2).astype(np.bool)\r\n",
        "\r\n",
        "        if im1.shape != im2.shape:\r\n",
        "            raise ValueError(\"Shape mismatch: im1 and im2 must have the same shape.\")\r\n",
        "\r\n",
        "        # Compute Dice coefficient\r\n",
        "        intersection = np.logical_and(im1, im2)\r\n",
        "        dice += (2. * intersection.sum() / (im1.sum() + im2.sum()))\r\n",
        "\r\n",
        "    return (dice /k)"
      ],
      "execution_count": 170,
      "outputs": []
    },
    {
      "cell_type": "code",
      "metadata": {
        "id": "B4Mx4KApUULy"
      },
      "source": [
        "def train():\r\n",
        "    for epoch in range(1, N_EPOCH + 1):\r\n",
        "        model.train()\r\n",
        "        train_loss = 0\r\n",
        "        batch_dice = 0\r\n",
        "        k = 0\r\n",
        "        for index , (images, masks) in enumerate(train_loader):\r\n",
        "            k +=1\r\n",
        "            images = images.float().to(device)\r\n",
        "            masks = masks.float().to(device)\r\n",
        "                \r\n",
        "            optimizer.zero_grad()\r\n",
        "            pred_masks = model(images)\r\n",
        "            main_loss = F.binary_cross_entropy(pred_masks , masks)\r\n",
        "            loss_L1 =  L1Loss(pred_masks.view(pred_masks.size(0),-1) , masks.view(masks.size(0),-1))\r\n",
        "            loss = main_loss + 100 * loss_L1\r\n",
        "            loss.backward()\r\n",
        "            train_loss += loss.detach().cpu().numpy()\r\n",
        "            optimizer.step()\r\n",
        "            batch_dice += dice_metric(masks , pred_masks)\r\n",
        "        print('Epoch: {}/{}\\t Average loss: {:.4f} \\t Average dice: {:.4f}'.format(epoch, N_EPOCH, train_loss /  k , batch_dice/ k ))\r\n",
        "    \r\n",
        "    return images , masks , pred_masks"
      ],
      "execution_count": 175,
      "outputs": []
    },
    {
      "cell_type": "code",
      "metadata": {
        "id": "udUSwxNfuIXv"
      },
      "source": [
        "def test():\r\n",
        "    model.eval()\r\n",
        "    test_loss = 0\r\n",
        "    batch_dice = 0\r\n",
        "    k = 0\r\n",
        "    for index , (images, masks) in enumerate(test_loader):\r\n",
        "        k +=1\r\n",
        "        images = images.float().to(device)\r\n",
        "        masks = masks.float().to(device)\r\n",
        "        pred_masks = model(images)\r\n",
        "        loss = F.binary_cross_entropy(pred_masks , masks)\r\n",
        "        test_loss += loss.detach().cpu().numpy()\r\n",
        "        batch_dice += dice_metric(masks , pred_masks)\r\n",
        "    print('Average loss: {:.4f} \\t Average dice: {:.4f}'.format( test_loss /  k , batch_dice/ k ))\r\n",
        "    return images , masks , pred_masks"
      ],
      "execution_count": 176,
      "outputs": []
    },
    {
      "cell_type": "code",
      "metadata": {
        "id": "aAH2mELLdTAy"
      },
      "source": [
        "N_EPOCH = 50\r\n",
        "LEARNING_RATE = 1e-2\r\n",
        "MOMENTUM = 0.9\r\n",
        "\r\n",
        "model = FCN().to(device)\r\n",
        "optimizer = optim.SGD(model.parameters(), lr=LEARNING_RATE , momentum=MOMENTUM)\r\n",
        "criterion = nn.BCEWithLogitsLoss().to(device)\r\n",
        "L1Loss = torch.nn.L1Loss().to(device)\r\n"
      ],
      "execution_count": 177,
      "outputs": []
    },
    {
      "cell_type": "code",
      "metadata": {
        "id": "BXFjWaQFzDMF",
        "colab": {
          "base_uri": "https://localhost:8080/"
        },
        "outputId": "4ed9034c-0a85-4df4-b7ab-791c9586f6e4"
      },
      "source": [
        "tr_images , tr_masks , tr_pred_masks = train()\r\n",
        "print(\"--------------------------------------------\")\r\n",
        "te_images , te_masks , te_pred_masks = test()"
      ],
      "execution_count": 178,
      "outputs": [
        {
          "output_type": "stream",
          "text": [
            "Epoch: 1/50\t Average loss: 10.8732 \t Average dice: 0.4625\n",
            "Epoch: 2/50\t Average loss: 3.7369 \t Average dice: 0.7292\n",
            "Epoch: 3/50\t Average loss: 2.7271 \t Average dice: 0.8138\n",
            "Epoch: 4/50\t Average loss: 2.2235 \t Average dice: 0.8495\n",
            "Epoch: 5/50\t Average loss: 1.8681 \t Average dice: 0.8740\n",
            "Epoch: 6/50\t Average loss: 1.7497 \t Average dice: 0.8822\n",
            "Epoch: 7/50\t Average loss: 1.7108 \t Average dice: 0.8839\n",
            "Epoch: 8/50\t Average loss: 1.5682 \t Average dice: 0.8929\n",
            "Epoch: 9/50\t Average loss: 1.4932 \t Average dice: 0.8988\n",
            "Epoch: 10/50\t Average loss: 1.4274 \t Average dice: 0.9029\n",
            "Epoch: 11/50\t Average loss: 1.4320 \t Average dice: 0.9020\n",
            "Epoch: 12/50\t Average loss: 1.5169 \t Average dice: 0.8987\n",
            "Epoch: 13/50\t Average loss: 1.3896 \t Average dice: 0.9077\n",
            "Epoch: 14/50\t Average loss: 1.2317 \t Average dice: 0.9143\n",
            "Epoch: 15/50\t Average loss: 1.1504 \t Average dice: 0.9195\n",
            "Epoch: 16/50\t Average loss: 1.1436 \t Average dice: 0.9201\n",
            "Epoch: 17/50\t Average loss: 1.1435 \t Average dice: 0.9189\n",
            "Epoch: 18/50\t Average loss: 1.1338 \t Average dice: 0.9213\n",
            "Epoch: 19/50\t Average loss: 1.2001 \t Average dice: 0.9178\n",
            "Epoch: 20/50\t Average loss: 1.2307 \t Average dice: 0.9186\n",
            "Epoch: 21/50\t Average loss: 1.0873 \t Average dice: 0.9240\n",
            "Epoch: 22/50\t Average loss: 1.0039 \t Average dice: 0.9285\n",
            "Epoch: 23/50\t Average loss: 1.0161 \t Average dice: 0.9291\n",
            "Epoch: 24/50\t Average loss: 1.0169 \t Average dice: 0.9297\n",
            "Epoch: 25/50\t Average loss: 1.0252 \t Average dice: 0.9297\n",
            "Epoch: 26/50\t Average loss: 1.0610 \t Average dice: 0.9275\n",
            "Epoch: 27/50\t Average loss: 0.9399 \t Average dice: 0.9344\n",
            "Epoch: 28/50\t Average loss: 0.8926 \t Average dice: 0.9371\n",
            "Epoch: 29/50\t Average loss: 0.8898 \t Average dice: 0.9369\n",
            "Epoch: 30/50\t Average loss: 0.9334 \t Average dice: 0.9363\n",
            "Epoch: 31/50\t Average loss: 1.0041 \t Average dice: 0.9303\n",
            "Epoch: 32/50\t Average loss: 1.0151 \t Average dice: 0.9282\n",
            "Epoch: 33/50\t Average loss: 1.0295 \t Average dice: 0.9306\n",
            "Epoch: 34/50\t Average loss: 0.9817 \t Average dice: 0.9329\n",
            "Epoch: 35/50\t Average loss: 0.9632 \t Average dice: 0.9332\n",
            "Epoch: 36/50\t Average loss: 0.9176 \t Average dice: 0.9363\n",
            "Epoch: 37/50\t Average loss: 0.8737 \t Average dice: 0.9377\n",
            "Epoch: 38/50\t Average loss: 0.8298 \t Average dice: 0.9409\n",
            "Epoch: 39/50\t Average loss: 0.7824 \t Average dice: 0.9444\n",
            "Epoch: 40/50\t Average loss: 0.7418 \t Average dice: 0.9450\n",
            "Epoch: 41/50\t Average loss: 0.7460 \t Average dice: 0.9441\n",
            "Epoch: 42/50\t Average loss: 0.7847 \t Average dice: 0.9451\n",
            "Epoch: 43/50\t Average loss: 0.8054 \t Average dice: 0.9434\n",
            "Epoch: 44/50\t Average loss: 0.7391 \t Average dice: 0.9453\n",
            "Epoch: 45/50\t Average loss: 0.7599 \t Average dice: 0.9440\n",
            "Epoch: 46/50\t Average loss: 0.6610 \t Average dice: 0.9503\n",
            "Epoch: 47/50\t Average loss: 0.6789 \t Average dice: 0.9478\n",
            "Epoch: 48/50\t Average loss: 0.7471 \t Average dice: 0.9469\n",
            "Epoch: 49/50\t Average loss: 0.6685 \t Average dice: 0.9513\n",
            "Epoch: 50/50\t Average loss: 0.6626 \t Average dice: 0.9518\n",
            "--------------------------------------------\n",
            "Average loss: 0.2980 \t Average dice: 0.8903\n"
          ],
          "name": "stdout"
        }
      ]
    },
    {
      "cell_type": "code",
      "metadata": {
        "id": "qTM_JZD9d3zA"
      },
      "source": [
        "import random\r\n",
        "def plot_results(images , masks , pred_masks):\r\n",
        "    fig , (ax1 , ax2 , ax3) = plt.subplots(1,3,figsize=(10,8))\r\n",
        "    a = random.choice(range(len(masks)))\r\n",
        "\r\n",
        "    this_image = images[a].squeeze(0).cpu().detach()\r\n",
        "    this_mask = masks[a].squeeze(0).cpu().detach()\r\n",
        "    pred_mask = pred_masks[a].squeeze(0).cpu()\r\n",
        "    print(\"dice for this image: \" ,dice_metric(masks[a] , pred_masks[a]))\r\n",
        "    pred_mask = (pred_mask>0.1).float()*1\r\n",
        "    \r\n",
        "\r\n",
        "    ax1.imshow(this_image , cmap = 'gray')\r\n",
        "    ax2.imshow(this_mask , cmap = 'gray')\r\n",
        "    ax3.imshow(pred_mask , cmap = 'gray')\r\n",
        "\r\n",
        "    ax1.set_title(\"Image\")\r\n",
        "    ax2.set_title(\"GT mask\")    \r\n",
        "    ax3.set_title(\"Predicted mask\")"
      ],
      "execution_count": 179,
      "outputs": []
    },
    {
      "cell_type": "code",
      "metadata": {
        "colab": {
          "base_uri": "https://localhost:8080/",
          "height": 247
        },
        "id": "MP5W7V2Xtqoi",
        "outputId": "44a10d57-c314-43cf-80c9-cdf7607de935"
      },
      "source": [
        "plot_results(tr_images , tr_masks , tr_pred_masks)"
      ],
      "execution_count": 180,
      "outputs": [
        {
          "output_type": "stream",
          "text": [
            "dice for this image:  0.9689067201604814\n"
          ],
          "name": "stdout"
        },
        {
          "output_type": "display_data",
          "data": {
            "image/png": "[encoded data removed]",
            "text/plain": [
              "<Figure size 720x576 with 3 Axes>"
            ]
          },
          "metadata": {
            "tags": [],
            "needs_background": "light"
          }
        }
      ]
    },
    {
      "cell_type": "code",
      "metadata": {
        "colab": {
          "base_uri": "https://localhost:8080/",
          "height": 247
        },
        "id": "Isqq71AnyCON",
        "outputId": "04b845da-d1b7-405d-9e33-9600a8796e71"
      },
      "source": [
        "plot_results(te_images , te_masks , te_pred_masks)"
      ],
      "execution_count": 200,
      "outputs": [
        {
          "output_type": "stream",
          "text": [
            "dice for this image:  0.8788368336025848\n"
          ],
          "name": "stdout"
        },
        {
          "output_type": "display_data",
          "data": {
            "image/png": "[encoded data removed]",
            "text/plain": [
              "<Figure size 720x576 with 3 Axes>"
            ]
          },
          "metadata": {
            "tags": [],
            "needs_background": "light"
          }
        }
      ]
    },
    {
      "cell_type": "code",
      "metadata": {
        "id": "0D4dsZ1rykPA"
      },
      "source": [
        ""
      ],
      "execution_count": 122,
      "outputs": []
    }
  ]
}